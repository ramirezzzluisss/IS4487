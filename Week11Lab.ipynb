{
  "cells": [
    {
      "cell_type": "markdown",
      "metadata": {
        "id": "view-in-github",
        "colab_type": "text"
      },
      "source": [
        "<a href=\"https://colab.research.google.com/github/ramirezzzluisss/IS4487/blob/main/Week11Lab.ipynb\" target=\"_parent\"><img src=\"https://colab.research.google.com/assets/colab-badge.svg\" alt=\"Open In Colab\"/></a>"
      ]
    },
    {
      "cell_type": "markdown",
      "metadata": {
        "id": "p_Yu45OYdj3Y"
      },
      "source": [
        "# IS 4487 Module 5 Script\n",
        "\n",
        "## Objectives\n",
        "\n",
        "a. Understand model accuracy.  Why is it a performance metric for classification and not regression?\n",
        "    \n",
        "b. Calculate accuracy for a simple majority class model (this is the same as calculating the proportion of the majority class in a binary variable). Consider: x <- c(1, 1, 1, 0, 0).  What is the majority class? What is the proportion of the majority class in x?\n",
        "    \n",
        "c. Fit a tree model of the target with just one predictor variable and calculate the accuracy of this model.\n",
        "    \n",
        "d. Interpret a tree model, and calculate information gain.\n",
        "    \n",
        "e. Fit a tree model of the target using all the predictors, then:  create a visualization of the tree and identify the top 3 most important predictors in this model.\n",
        "    \n",
        "f. How do these models compare to majority class prediction?\n",
        "    \n",
        "g. How will you use a classification model as part of a solution to the AdviseInvest case?\n",
        "\n",
        "We will use the MegaTelCo data for this demonstration."
      ]
    },
    {
      "cell_type": "markdown",
      "metadata": {
        "id": "UE93RwXhgiJS"
      },
      "source": [
        "##Load Libraries\n",
        "\n",
        "In this class we will be using \n",
        "- Pandas\n",
        "- Scikitlearn\n",
        "- Matplotlib\n"
      ]
    },
    {
      "cell_type": "code",
      "execution_count": 53,
      "metadata": {
        "id": "JYRZY5n0gfNe"
      },
      "outputs": [],
      "source": [
        "import pandas as pd\n",
        "import matplotlib as mpl\n",
        "import numpy as np\n",
        "import csv\n",
        "\n",
        "from sklearn.tree import DecisionTreeClassifier, export_graphviz # Import Decision Tree Classifier\n",
        "from sklearn.model_selection import train_test_split # Import train_test_split function\n",
        "from sklearn import metrics #Import scikit-learn metrics module for accuracy calculation\n",
        "from sklearn import tree\n"
      ]
    },
    {
      "cell_type": "markdown",
      "metadata": {
        "id": "bREaXo8jfu-O"
      },
      "source": [
        "## Getting data into Pandas\n",
        "\n",
        "In this case we will load data from the statsmodels.org library\n",
        "\n",
        "See the Canvas assignments and lectures for a description of the Megatelco data\n",
        "\n",
        "**Note:** you will need to enter a code supplied by Google in the next step. \n"
      ]
    },
    {
      "cell_type": "code",
      "source": [
        "from google.colab import drive\n",
        "drive.mount('/content/gdrive')"
      ],
      "metadata": {
        "colab": {
          "base_uri": "https://localhost:8080/"
        },
        "id": "cRunYwib4Oon",
        "outputId": "c316bf34-e178-41e9-cecc-857aa94afc5a"
      },
      "execution_count": 54,
      "outputs": [
        {
          "output_type": "stream",
          "name": "stdout",
          "text": [
            "Drive already mounted at /content/gdrive; to attempt to forcibly remount, call drive.mount(\"/content/gdrive\", force_remount=True).\n"
          ]
        }
      ]
    },
    {
      "cell_type": "code",
      "execution_count": 55,
      "metadata": {
        "colab": {
          "base_uri": "https://localhost:8080/"
        },
        "id": "6_FwprxVgR0e",
        "outputId": "552d6434-2363-41a2-d308-11716136bef7"
      },
      "outputs": [
        {
          "output_type": "stream",
          "name": "stdout",
          "text": [
            "Mounted at /content/gdrive\n"
          ]
        }
      ],
      "source": [
        "from google.colab import drive \n",
        "drive.mount('/content/gdrive', force_remount=True)\n",
        "\n",
        "df = pd.read_csv (r'/content/gdrive/MyDrive/Colab Notebooks/daily_aqi_by_county_2021.csv',quoting=csv.QUOTE_NONE, encoding='utf-8')"
      ]
    },
    {
      "cell_type": "code",
      "execution_count": 56,
      "metadata": {
        "colab": {
          "base_uri": "https://localhost:8080/",
          "height": 597
        },
        "id": "gSvao0dlhlNn",
        "outputId": "1350f6d0-560d-402c-ecc6-bb19e56e870d"
      },
      "outputs": [
        {
          "output_type": "execute_result",
          "data": {
            "text/plain": [
              "  \"State Name\" \"county Name\" \"State Code\" \"County Code\"        \"Date\"  \"AQI\"  \\\n",
              "0    \"Alabama\"     \"Baldwin\"         \"01\"         \"003\"  \"2021-01-01\"   27.0   \n",
              "1    \"Alabama\"     \"Baldwin\"         \"01\"         \"003\"  \"2021-01-04\"   47.0   \n",
              "2    \"Alabama\"     \"Baldwin\"         \"01\"         \"003\"  \"2021-01-07\"   24.0   \n",
              "3    \"Alabama\"     \"Baldwin\"         \"01\"         \"003\"  \"2021-01-10\"   39.0   \n",
              "4    \"Alabama\"     \"Baldwin\"         \"01\"         \"003\"  \"2021-01-13\"   46.0   \n",
              "5    \"Alabama\"     \"Baldwin\"         \"01\"         \"003\"  \"2021-01-16\"   21.0   \n",
              "6    \"Alabama\"     \"Baldwin\"         \"01\"         \"003\"  \"2021-01-19\"   52.0   \n",
              "7    \"Alabama\"     \"Baldwin\"         \"01\"         \"003\"  \"2021-01-22\"   11.0   \n",
              "8    \"Alabama\"     \"Baldwin\"         \"01\"         \"003\"  \"2021-01-25\"   39.0   \n",
              "9    \"Alabama\"     \"Baldwin\"         \"01\"         \"003\"  \"2021-01-28\"   22.0   \n",
              "\n",
              "   \"Category\" \"Defining Parameter\" \"Defining Site\"  \\\n",
              "0      \"Good\"              \"PM2.5\"   \"01-003-0010\"   \n",
              "1      \"Good\"              \"PM2.5\"   \"01-003-0010\"   \n",
              "2      \"Good\"              \"PM2.5\"   \"01-003-0010\"   \n",
              "3      \"Good\"              \"PM2.5\"   \"01-003-0010\"   \n",
              "4      \"Good\"              \"PM2.5\"   \"01-003-0010\"   \n",
              "5      \"Good\"              \"PM2.5\"   \"01-003-0010\"   \n",
              "6  \"Moderate\"              \"PM2.5\"   \"01-003-0010\"   \n",
              "7      \"Good\"              \"PM2.5\"   \"01-003-0010\"   \n",
              "8      \"Good\"              \"PM2.5\"   \"01-003-0010\"   \n",
              "9      \"Good\"              \"PM2.5\"   \"01-003-0010\"   \n",
              "\n",
              "   \"Number of Sites Reporting\"  \n",
              "0                          1.0  \n",
              "1                          1.0  \n",
              "2                          1.0  \n",
              "3                          1.0  \n",
              "4                          1.0  \n",
              "5                          1.0  \n",
              "6                          1.0  \n",
              "7                          1.0  \n",
              "8                          1.0  \n",
              "9                          1.0  "
            ],
            "text/html": [
              "\n",
              "  <div id=\"df-b01b1783-938f-4523-bd35-3c7746bac85d\">\n",
              "    <div class=\"colab-df-container\">\n",
              "      <div>\n",
              "<style scoped>\n",
              "    .dataframe tbody tr th:only-of-type {\n",
              "        vertical-align: middle;\n",
              "    }\n",
              "\n",
              "    .dataframe tbody tr th {\n",
              "        vertical-align: top;\n",
              "    }\n",
              "\n",
              "    .dataframe thead th {\n",
              "        text-align: right;\n",
              "    }\n",
              "</style>\n",
              "<table border=\"1\" class=\"dataframe\">\n",
              "  <thead>\n",
              "    <tr style=\"text-align: right;\">\n",
              "      <th></th>\n",
              "      <th>\"State Name\"</th>\n",
              "      <th>\"county Name\"</th>\n",
              "      <th>\"State Code\"</th>\n",
              "      <th>\"County Code\"</th>\n",
              "      <th>\"Date\"</th>\n",
              "      <th>\"AQI\"</th>\n",
              "      <th>\"Category\"</th>\n",
              "      <th>\"Defining Parameter\"</th>\n",
              "      <th>\"Defining Site\"</th>\n",
              "      <th>\"Number of Sites Reporting\"</th>\n",
              "    </tr>\n",
              "  </thead>\n",
              "  <tbody>\n",
              "    <tr>\n",
              "      <th>0</th>\n",
              "      <td>\"Alabama\"</td>\n",
              "      <td>\"Baldwin\"</td>\n",
              "      <td>\"01\"</td>\n",
              "      <td>\"003\"</td>\n",
              "      <td>\"2021-01-01\"</td>\n",
              "      <td>27.0</td>\n",
              "      <td>\"Good\"</td>\n",
              "      <td>\"PM2.5\"</td>\n",
              "      <td>\"01-003-0010\"</td>\n",
              "      <td>1.0</td>\n",
              "    </tr>\n",
              "    <tr>\n",
              "      <th>1</th>\n",
              "      <td>\"Alabama\"</td>\n",
              "      <td>\"Baldwin\"</td>\n",
              "      <td>\"01\"</td>\n",
              "      <td>\"003\"</td>\n",
              "      <td>\"2021-01-04\"</td>\n",
              "      <td>47.0</td>\n",
              "      <td>\"Good\"</td>\n",
              "      <td>\"PM2.5\"</td>\n",
              "      <td>\"01-003-0010\"</td>\n",
              "      <td>1.0</td>\n",
              "    </tr>\n",
              "    <tr>\n",
              "      <th>2</th>\n",
              "      <td>\"Alabama\"</td>\n",
              "      <td>\"Baldwin\"</td>\n",
              "      <td>\"01\"</td>\n",
              "      <td>\"003\"</td>\n",
              "      <td>\"2021-01-07\"</td>\n",
              "      <td>24.0</td>\n",
              "      <td>\"Good\"</td>\n",
              "      <td>\"PM2.5\"</td>\n",
              "      <td>\"01-003-0010\"</td>\n",
              "      <td>1.0</td>\n",
              "    </tr>\n",
              "    <tr>\n",
              "      <th>3</th>\n",
              "      <td>\"Alabama\"</td>\n",
              "      <td>\"Baldwin\"</td>\n",
              "      <td>\"01\"</td>\n",
              "      <td>\"003\"</td>\n",
              "      <td>\"2021-01-10\"</td>\n",
              "      <td>39.0</td>\n",
              "      <td>\"Good\"</td>\n",
              "      <td>\"PM2.5\"</td>\n",
              "      <td>\"01-003-0010\"</td>\n",
              "      <td>1.0</td>\n",
              "    </tr>\n",
              "    <tr>\n",
              "      <th>4</th>\n",
              "      <td>\"Alabama\"</td>\n",
              "      <td>\"Baldwin\"</td>\n",
              "      <td>\"01\"</td>\n",
              "      <td>\"003\"</td>\n",
              "      <td>\"2021-01-13\"</td>\n",
              "      <td>46.0</td>\n",
              "      <td>\"Good\"</td>\n",
              "      <td>\"PM2.5\"</td>\n",
              "      <td>\"01-003-0010\"</td>\n",
              "      <td>1.0</td>\n",
              "    </tr>\n",
              "    <tr>\n",
              "      <th>5</th>\n",
              "      <td>\"Alabama\"</td>\n",
              "      <td>\"Baldwin\"</td>\n",
              "      <td>\"01\"</td>\n",
              "      <td>\"003\"</td>\n",
              "      <td>\"2021-01-16\"</td>\n",
              "      <td>21.0</td>\n",
              "      <td>\"Good\"</td>\n",
              "      <td>\"PM2.5\"</td>\n",
              "      <td>\"01-003-0010\"</td>\n",
              "      <td>1.0</td>\n",
              "    </tr>\n",
              "    <tr>\n",
              "      <th>6</th>\n",
              "      <td>\"Alabama\"</td>\n",
              "      <td>\"Baldwin\"</td>\n",
              "      <td>\"01\"</td>\n",
              "      <td>\"003\"</td>\n",
              "      <td>\"2021-01-19\"</td>\n",
              "      <td>52.0</td>\n",
              "      <td>\"Moderate\"</td>\n",
              "      <td>\"PM2.5\"</td>\n",
              "      <td>\"01-003-0010\"</td>\n",
              "      <td>1.0</td>\n",
              "    </tr>\n",
              "    <tr>\n",
              "      <th>7</th>\n",
              "      <td>\"Alabama\"</td>\n",
              "      <td>\"Baldwin\"</td>\n",
              "      <td>\"01\"</td>\n",
              "      <td>\"003\"</td>\n",
              "      <td>\"2021-01-22\"</td>\n",
              "      <td>11.0</td>\n",
              "      <td>\"Good\"</td>\n",
              "      <td>\"PM2.5\"</td>\n",
              "      <td>\"01-003-0010\"</td>\n",
              "      <td>1.0</td>\n",
              "    </tr>\n",
              "    <tr>\n",
              "      <th>8</th>\n",
              "      <td>\"Alabama\"</td>\n",
              "      <td>\"Baldwin\"</td>\n",
              "      <td>\"01\"</td>\n",
              "      <td>\"003\"</td>\n",
              "      <td>\"2021-01-25\"</td>\n",
              "      <td>39.0</td>\n",
              "      <td>\"Good\"</td>\n",
              "      <td>\"PM2.5\"</td>\n",
              "      <td>\"01-003-0010\"</td>\n",
              "      <td>1.0</td>\n",
              "    </tr>\n",
              "    <tr>\n",
              "      <th>9</th>\n",
              "      <td>\"Alabama\"</td>\n",
              "      <td>\"Baldwin\"</td>\n",
              "      <td>\"01\"</td>\n",
              "      <td>\"003\"</td>\n",
              "      <td>\"2021-01-28\"</td>\n",
              "      <td>22.0</td>\n",
              "      <td>\"Good\"</td>\n",
              "      <td>\"PM2.5\"</td>\n",
              "      <td>\"01-003-0010\"</td>\n",
              "      <td>1.0</td>\n",
              "    </tr>\n",
              "  </tbody>\n",
              "</table>\n",
              "</div>\n",
              "      <button class=\"colab-df-convert\" onclick=\"convertToInteractive('df-b01b1783-938f-4523-bd35-3c7746bac85d')\"\n",
              "              title=\"Convert this dataframe to an interactive table.\"\n",
              "              style=\"display:none;\">\n",
              "        \n",
              "  <svg xmlns=\"http://www.w3.org/2000/svg\" height=\"24px\"viewBox=\"0 0 24 24\"\n",
              "       width=\"24px\">\n",
              "    <path d=\"M0 0h24v24H0V0z\" fill=\"none\"/>\n",
              "    <path d=\"M18.56 5.44l.94 2.06.94-2.06 2.06-.94-2.06-.94-.94-2.06-.94 2.06-2.06.94zm-11 1L8.5 8.5l.94-2.06 2.06-.94-2.06-.94L8.5 2.5l-.94 2.06-2.06.94zm10 10l.94 2.06.94-2.06 2.06-.94-2.06-.94-.94-2.06-.94 2.06-2.06.94z\"/><path d=\"M17.41 7.96l-1.37-1.37c-.4-.4-.92-.59-1.43-.59-.52 0-1.04.2-1.43.59L10.3 9.45l-7.72 7.72c-.78.78-.78 2.05 0 2.83L4 21.41c.39.39.9.59 1.41.59.51 0 1.02-.2 1.41-.59l7.78-7.78 2.81-2.81c.8-.78.8-2.07 0-2.86zM5.41 20L4 18.59l7.72-7.72 1.47 1.35L5.41 20z\"/>\n",
              "  </svg>\n",
              "      </button>\n",
              "      \n",
              "  <style>\n",
              "    .colab-df-container {\n",
              "      display:flex;\n",
              "      flex-wrap:wrap;\n",
              "      gap: 12px;\n",
              "    }\n",
              "\n",
              "    .colab-df-convert {\n",
              "      background-color: #E8F0FE;\n",
              "      border: none;\n",
              "      border-radius: 50%;\n",
              "      cursor: pointer;\n",
              "      display: none;\n",
              "      fill: #1967D2;\n",
              "      height: 32px;\n",
              "      padding: 0 0 0 0;\n",
              "      width: 32px;\n",
              "    }\n",
              "\n",
              "    .colab-df-convert:hover {\n",
              "      background-color: #E2EBFA;\n",
              "      box-shadow: 0px 1px 2px rgba(60, 64, 67, 0.3), 0px 1px 3px 1px rgba(60, 64, 67, 0.15);\n",
              "      fill: #174EA6;\n",
              "    }\n",
              "\n",
              "    [theme=dark] .colab-df-convert {\n",
              "      background-color: #3B4455;\n",
              "      fill: #D2E3FC;\n",
              "    }\n",
              "\n",
              "    [theme=dark] .colab-df-convert:hover {\n",
              "      background-color: #434B5C;\n",
              "      box-shadow: 0px 1px 3px 1px rgba(0, 0, 0, 0.15);\n",
              "      filter: drop-shadow(0px 1px 2px rgba(0, 0, 0, 0.3));\n",
              "      fill: #FFFFFF;\n",
              "    }\n",
              "  </style>\n",
              "\n",
              "      <script>\n",
              "        const buttonEl =\n",
              "          document.querySelector('#df-b01b1783-938f-4523-bd35-3c7746bac85d button.colab-df-convert');\n",
              "        buttonEl.style.display =\n",
              "          google.colab.kernel.accessAllowed ? 'block' : 'none';\n",
              "\n",
              "        async function convertToInteractive(key) {\n",
              "          const element = document.querySelector('#df-b01b1783-938f-4523-bd35-3c7746bac85d');\n",
              "          const dataTable =\n",
              "            await google.colab.kernel.invokeFunction('convertToInteractive',\n",
              "                                                     [key], {});\n",
              "          if (!dataTable) return;\n",
              "\n",
              "          const docLinkHtml = 'Like what you see? Visit the ' +\n",
              "            '<a target=\"_blank\" href=https://colab.research.google.com/notebooks/data_table.ipynb>data table notebook</a>'\n",
              "            + ' to learn more about interactive tables.';\n",
              "          element.innerHTML = '';\n",
              "          dataTable['output_type'] = 'display_data';\n",
              "          await google.colab.output.renderOutput(dataTable, element);\n",
              "          const docLink = document.createElement('div');\n",
              "          docLink.innerHTML = docLinkHtml;\n",
              "          element.appendChild(docLink);\n",
              "        }\n",
              "      </script>\n",
              "    </div>\n",
              "  </div>\n",
              "  "
            ]
          },
          "metadata": {},
          "execution_count": 56
        }
      ],
      "source": [
        "#look at the top rows\n",
        "df.head(10) "
      ]
    },
    {
      "cell_type": "code",
      "execution_count": 57,
      "metadata": {
        "colab": {
          "base_uri": "https://localhost:8080/"
        },
        "id": "AK7y336xJ3-6",
        "outputId": "ad337c6b-24ba-40d1-b17c-e5425d242090"
      },
      "outputs": [
        {
          "output_type": "stream",
          "name": "stdout",
          "text": [
            "<class 'pandas.core.frame.DataFrame'>\n",
            "RangeIndex: 78547 entries, 0 to 78546\n",
            "Data columns (total 10 columns):\n",
            " #   Column                       Non-Null Count  Dtype  \n",
            "---  ------                       --------------  -----  \n",
            " 0   \"State Name\"                 78547 non-null  object \n",
            " 1   \"county Name\"                78547 non-null  object \n",
            " 2   \"State Code\"                 78546 non-null  object \n",
            " 3   \"County Code\"                78546 non-null  object \n",
            " 4   \"Date\"                       78546 non-null  object \n",
            " 5   \"AQI\"                        78546 non-null  float64\n",
            " 6   \"Category\"                   78546 non-null  object \n",
            " 7   \"Defining Parameter\"         78546 non-null  object \n",
            " 8   \"Defining Site\"              78546 non-null  object \n",
            " 9   \"Number of Sites Reporting\"  78546 non-null  float64\n",
            "dtypes: float64(2), object(8)\n",
            "memory usage: 6.0+ MB\n"
          ]
        }
      ],
      "source": [
        "#look at the datatypes\n",
        "df.info()"
      ]
    },
    {
      "cell_type": "code",
      "execution_count": 58,
      "metadata": {
        "colab": {
          "base_uri": "https://localhost:8080/",
          "height": 300
        },
        "id": "udYgkb6I3SJo",
        "outputId": "2c27537f-e882-45a2-8bf9-b2ea8dd57537"
      },
      "outputs": [
        {
          "output_type": "execute_result",
          "data": {
            "text/plain": [
              "              \"AQI\"  \"Number of Sites Reporting\"\n",
              "count  78546.000000                 78546.000000\n",
              "mean      41.837089                     2.177514\n",
              "std       24.858373                     2.790739\n",
              "min        0.000000                     1.000000\n",
              "25%       30.000000                     1.000000\n",
              "50%       40.000000                     1.000000\n",
              "75%       49.000000                     2.000000\n",
              "max     2723.000000                    30.000000"
            ],
            "text/html": [
              "\n",
              "  <div id=\"df-b0107e40-d676-4168-8f88-4d50df02ba64\">\n",
              "    <div class=\"colab-df-container\">\n",
              "      <div>\n",
              "<style scoped>\n",
              "    .dataframe tbody tr th:only-of-type {\n",
              "        vertical-align: middle;\n",
              "    }\n",
              "\n",
              "    .dataframe tbody tr th {\n",
              "        vertical-align: top;\n",
              "    }\n",
              "\n",
              "    .dataframe thead th {\n",
              "        text-align: right;\n",
              "    }\n",
              "</style>\n",
              "<table border=\"1\" class=\"dataframe\">\n",
              "  <thead>\n",
              "    <tr style=\"text-align: right;\">\n",
              "      <th></th>\n",
              "      <th>\"AQI\"</th>\n",
              "      <th>\"Number of Sites Reporting\"</th>\n",
              "    </tr>\n",
              "  </thead>\n",
              "  <tbody>\n",
              "    <tr>\n",
              "      <th>count</th>\n",
              "      <td>78546.000000</td>\n",
              "      <td>78546.000000</td>\n",
              "    </tr>\n",
              "    <tr>\n",
              "      <th>mean</th>\n",
              "      <td>41.837089</td>\n",
              "      <td>2.177514</td>\n",
              "    </tr>\n",
              "    <tr>\n",
              "      <th>std</th>\n",
              "      <td>24.858373</td>\n",
              "      <td>2.790739</td>\n",
              "    </tr>\n",
              "    <tr>\n",
              "      <th>min</th>\n",
              "      <td>0.000000</td>\n",
              "      <td>1.000000</td>\n",
              "    </tr>\n",
              "    <tr>\n",
              "      <th>25%</th>\n",
              "      <td>30.000000</td>\n",
              "      <td>1.000000</td>\n",
              "    </tr>\n",
              "    <tr>\n",
              "      <th>50%</th>\n",
              "      <td>40.000000</td>\n",
              "      <td>1.000000</td>\n",
              "    </tr>\n",
              "    <tr>\n",
              "      <th>75%</th>\n",
              "      <td>49.000000</td>\n",
              "      <td>2.000000</td>\n",
              "    </tr>\n",
              "    <tr>\n",
              "      <th>max</th>\n",
              "      <td>2723.000000</td>\n",
              "      <td>30.000000</td>\n",
              "    </tr>\n",
              "  </tbody>\n",
              "</table>\n",
              "</div>\n",
              "      <button class=\"colab-df-convert\" onclick=\"convertToInteractive('df-b0107e40-d676-4168-8f88-4d50df02ba64')\"\n",
              "              title=\"Convert this dataframe to an interactive table.\"\n",
              "              style=\"display:none;\">\n",
              "        \n",
              "  <svg xmlns=\"http://www.w3.org/2000/svg\" height=\"24px\"viewBox=\"0 0 24 24\"\n",
              "       width=\"24px\">\n",
              "    <path d=\"M0 0h24v24H0V0z\" fill=\"none\"/>\n",
              "    <path d=\"M18.56 5.44l.94 2.06.94-2.06 2.06-.94-2.06-.94-.94-2.06-.94 2.06-2.06.94zm-11 1L8.5 8.5l.94-2.06 2.06-.94-2.06-.94L8.5 2.5l-.94 2.06-2.06.94zm10 10l.94 2.06.94-2.06 2.06-.94-2.06-.94-.94-2.06-.94 2.06-2.06.94z\"/><path d=\"M17.41 7.96l-1.37-1.37c-.4-.4-.92-.59-1.43-.59-.52 0-1.04.2-1.43.59L10.3 9.45l-7.72 7.72c-.78.78-.78 2.05 0 2.83L4 21.41c.39.39.9.59 1.41.59.51 0 1.02-.2 1.41-.59l7.78-7.78 2.81-2.81c.8-.78.8-2.07 0-2.86zM5.41 20L4 18.59l7.72-7.72 1.47 1.35L5.41 20z\"/>\n",
              "  </svg>\n",
              "      </button>\n",
              "      \n",
              "  <style>\n",
              "    .colab-df-container {\n",
              "      display:flex;\n",
              "      flex-wrap:wrap;\n",
              "      gap: 12px;\n",
              "    }\n",
              "\n",
              "    .colab-df-convert {\n",
              "      background-color: #E8F0FE;\n",
              "      border: none;\n",
              "      border-radius: 50%;\n",
              "      cursor: pointer;\n",
              "      display: none;\n",
              "      fill: #1967D2;\n",
              "      height: 32px;\n",
              "      padding: 0 0 0 0;\n",
              "      width: 32px;\n",
              "    }\n",
              "\n",
              "    .colab-df-convert:hover {\n",
              "      background-color: #E2EBFA;\n",
              "      box-shadow: 0px 1px 2px rgba(60, 64, 67, 0.3), 0px 1px 3px 1px rgba(60, 64, 67, 0.15);\n",
              "      fill: #174EA6;\n",
              "    }\n",
              "\n",
              "    [theme=dark] .colab-df-convert {\n",
              "      background-color: #3B4455;\n",
              "      fill: #D2E3FC;\n",
              "    }\n",
              "\n",
              "    [theme=dark] .colab-df-convert:hover {\n",
              "      background-color: #434B5C;\n",
              "      box-shadow: 0px 1px 3px 1px rgba(0, 0, 0, 0.15);\n",
              "      filter: drop-shadow(0px 1px 2px rgba(0, 0, 0, 0.3));\n",
              "      fill: #FFFFFF;\n",
              "    }\n",
              "  </style>\n",
              "\n",
              "      <script>\n",
              "        const buttonEl =\n",
              "          document.querySelector('#df-b0107e40-d676-4168-8f88-4d50df02ba64 button.colab-df-convert');\n",
              "        buttonEl.style.display =\n",
              "          google.colab.kernel.accessAllowed ? 'block' : 'none';\n",
              "\n",
              "        async function convertToInteractive(key) {\n",
              "          const element = document.querySelector('#df-b0107e40-d676-4168-8f88-4d50df02ba64');\n",
              "          const dataTable =\n",
              "            await google.colab.kernel.invokeFunction('convertToInteractive',\n",
              "                                                     [key], {});\n",
              "          if (!dataTable) return;\n",
              "\n",
              "          const docLinkHtml = 'Like what you see? Visit the ' +\n",
              "            '<a target=\"_blank\" href=https://colab.research.google.com/notebooks/data_table.ipynb>data table notebook</a>'\n",
              "            + ' to learn more about interactive tables.';\n",
              "          element.innerHTML = '';\n",
              "          dataTable['output_type'] = 'display_data';\n",
              "          await google.colab.output.renderOutput(dataTable, element);\n",
              "          const docLink = document.createElement('div');\n",
              "          docLink.innerHTML = docLinkHtml;\n",
              "          element.appendChild(docLink);\n",
              "        }\n",
              "      </script>\n",
              "    </div>\n",
              "  </div>\n",
              "  "
            ]
          },
          "metadata": {},
          "execution_count": 58
        }
      ],
      "source": [
        "#describe the data before cleaning it\n",
        "df.describe()"
      ]
    },
    {
      "cell_type": "markdown",
      "metadata": {
        "id": "BtxOWvFlKzgE"
      },
      "source": [
        "## Clean up the data\n",
        "Did you notice anything unusual about the \"house\" amounts? \n",
        "\n",
        "How about the handset price and income?\n",
        "\n",
        "Clean up the data in a  new datafram named \"df_clean\"\n"
      ]
    },
    {
      "cell_type": "code",
      "execution_count": 70,
      "metadata": {
        "colab": {
          "base_uri": "https://localhost:8080/",
          "height": 300
        },
        "id": "7KXLvMcBK8Za",
        "outputId": "b0e0faa3-d580-4f8d-979e-17c0937bd216"
      },
      "outputs": [
        {
          "output_type": "execute_result",
          "data": {
            "text/plain": [
              "             \"AQI\"  \"Number of Sites Reporting\"\n",
              "count  9051.000000                  9051.000000\n",
              "mean     39.858358                     1.728759\n",
              "std      17.000073                     1.197378\n",
              "min       0.000000                     1.000000\n",
              "25%      31.000000                     1.000000\n",
              "50%      38.000000                     1.000000\n",
              "75%      47.000000                     2.000000\n",
              "max     169.000000                     7.000000"
            ],
            "text/html": [
              "\n",
              "  <div id=\"df-170ada38-6662-4df8-aa2a-18e112c9971b\">\n",
              "    <div class=\"colab-df-container\">\n",
              "      <div>\n",
              "<style scoped>\n",
              "    .dataframe tbody tr th:only-of-type {\n",
              "        vertical-align: middle;\n",
              "    }\n",
              "\n",
              "    .dataframe tbody tr th {\n",
              "        vertical-align: top;\n",
              "    }\n",
              "\n",
              "    .dataframe thead th {\n",
              "        text-align: right;\n",
              "    }\n",
              "</style>\n",
              "<table border=\"1\" class=\"dataframe\">\n",
              "  <thead>\n",
              "    <tr style=\"text-align: right;\">\n",
              "      <th></th>\n",
              "      <th>\"AQI\"</th>\n",
              "      <th>\"Number of Sites Reporting\"</th>\n",
              "    </tr>\n",
              "  </thead>\n",
              "  <tbody>\n",
              "    <tr>\n",
              "      <th>count</th>\n",
              "      <td>9051.000000</td>\n",
              "      <td>9051.000000</td>\n",
              "    </tr>\n",
              "    <tr>\n",
              "      <th>mean</th>\n",
              "      <td>39.858358</td>\n",
              "      <td>1.728759</td>\n",
              "    </tr>\n",
              "    <tr>\n",
              "      <th>std</th>\n",
              "      <td>17.000073</td>\n",
              "      <td>1.197378</td>\n",
              "    </tr>\n",
              "    <tr>\n",
              "      <th>min</th>\n",
              "      <td>0.000000</td>\n",
              "      <td>1.000000</td>\n",
              "    </tr>\n",
              "    <tr>\n",
              "      <th>25%</th>\n",
              "      <td>31.000000</td>\n",
              "      <td>1.000000</td>\n",
              "    </tr>\n",
              "    <tr>\n",
              "      <th>50%</th>\n",
              "      <td>38.000000</td>\n",
              "      <td>1.000000</td>\n",
              "    </tr>\n",
              "    <tr>\n",
              "      <th>75%</th>\n",
              "      <td>47.000000</td>\n",
              "      <td>2.000000</td>\n",
              "    </tr>\n",
              "    <tr>\n",
              "      <th>max</th>\n",
              "      <td>169.000000</td>\n",
              "      <td>7.000000</td>\n",
              "    </tr>\n",
              "  </tbody>\n",
              "</table>\n",
              "</div>\n",
              "      <button class=\"colab-df-convert\" onclick=\"convertToInteractive('df-170ada38-6662-4df8-aa2a-18e112c9971b')\"\n",
              "              title=\"Convert this dataframe to an interactive table.\"\n",
              "              style=\"display:none;\">\n",
              "        \n",
              "  <svg xmlns=\"http://www.w3.org/2000/svg\" height=\"24px\"viewBox=\"0 0 24 24\"\n",
              "       width=\"24px\">\n",
              "    <path d=\"M0 0h24v24H0V0z\" fill=\"none\"/>\n",
              "    <path d=\"M18.56 5.44l.94 2.06.94-2.06 2.06-.94-2.06-.94-.94-2.06-.94 2.06-2.06.94zm-11 1L8.5 8.5l.94-2.06 2.06-.94-2.06-.94L8.5 2.5l-.94 2.06-2.06.94zm10 10l.94 2.06.94-2.06 2.06-.94-2.06-.94-.94-2.06-.94 2.06-2.06.94z\"/><path d=\"M17.41 7.96l-1.37-1.37c-.4-.4-.92-.59-1.43-.59-.52 0-1.04.2-1.43.59L10.3 9.45l-7.72 7.72c-.78.78-.78 2.05 0 2.83L4 21.41c.39.39.9.59 1.41.59.51 0 1.02-.2 1.41-.59l7.78-7.78 2.81-2.81c.8-.78.8-2.07 0-2.86zM5.41 20L4 18.59l7.72-7.72 1.47 1.35L5.41 20z\"/>\n",
              "  </svg>\n",
              "      </button>\n",
              "      \n",
              "  <style>\n",
              "    .colab-df-container {\n",
              "      display:flex;\n",
              "      flex-wrap:wrap;\n",
              "      gap: 12px;\n",
              "    }\n",
              "\n",
              "    .colab-df-convert {\n",
              "      background-color: #E8F0FE;\n",
              "      border: none;\n",
              "      border-radius: 50%;\n",
              "      cursor: pointer;\n",
              "      display: none;\n",
              "      fill: #1967D2;\n",
              "      height: 32px;\n",
              "      padding: 0 0 0 0;\n",
              "      width: 32px;\n",
              "    }\n",
              "\n",
              "    .colab-df-convert:hover {\n",
              "      background-color: #E2EBFA;\n",
              "      box-shadow: 0px 1px 2px rgba(60, 64, 67, 0.3), 0px 1px 3px 1px rgba(60, 64, 67, 0.15);\n",
              "      fill: #174EA6;\n",
              "    }\n",
              "\n",
              "    [theme=dark] .colab-df-convert {\n",
              "      background-color: #3B4455;\n",
              "      fill: #D2E3FC;\n",
              "    }\n",
              "\n",
              "    [theme=dark] .colab-df-convert:hover {\n",
              "      background-color: #434B5C;\n",
              "      box-shadow: 0px 1px 3px 1px rgba(0, 0, 0, 0.15);\n",
              "      filter: drop-shadow(0px 1px 2px rgba(0, 0, 0, 0.3));\n",
              "      fill: #FFFFFF;\n",
              "    }\n",
              "  </style>\n",
              "\n",
              "      <script>\n",
              "        const buttonEl =\n",
              "          document.querySelector('#df-170ada38-6662-4df8-aa2a-18e112c9971b button.colab-df-convert');\n",
              "        buttonEl.style.display =\n",
              "          google.colab.kernel.accessAllowed ? 'block' : 'none';\n",
              "\n",
              "        async function convertToInteractive(key) {\n",
              "          const element = document.querySelector('#df-170ada38-6662-4df8-aa2a-18e112c9971b');\n",
              "          const dataTable =\n",
              "            await google.colab.kernel.invokeFunction('convertToInteractive',\n",
              "                                                     [key], {});\n",
              "          if (!dataTable) return;\n",
              "\n",
              "          const docLinkHtml = 'Like what you see? Visit the ' +\n",
              "            '<a target=\"_blank\" href=https://colab.research.google.com/notebooks/data_table.ipynb>data table notebook</a>'\n",
              "            + ' to learn more about interactive tables.';\n",
              "          element.innerHTML = '';\n",
              "          dataTable['output_type'] = 'display_data';\n",
              "          await google.colab.output.renderOutput(dataTable, element);\n",
              "          const docLink = document.createElement('div');\n",
              "          docLink.innerHTML = docLinkHtml;\n",
              "          element.appendChild(docLink);\n",
              "        }\n",
              "      </script>\n",
              "    </div>\n",
              "  </div>\n",
              "  "
            ]
          },
          "metadata": {},
          "execution_count": 70
        }
      ],
      "source": [
        "#delete rows with outlier data; put it in a new dataframe\n",
        "df_clean = df[(df['\"State Name\"'] == '\"Indiana\"')]\n",
        "\n",
        "#delete any rows with missing values in the clean dataframe\n",
        "df_clean = df_clean.dropna() \n",
        "\n",
        "df_clean.describe()"
      ]
    },
    {
      "cell_type": "code",
      "source": [
        "df_clean.info()"
      ],
      "metadata": {
        "colab": {
          "base_uri": "https://localhost:8080/"
        },
        "id": "kdl4iLMK7siU",
        "outputId": "c3fd306c-a96e-48d3-fae4-9261d53f7d8d"
      },
      "execution_count": 71,
      "outputs": [
        {
          "output_type": "stream",
          "name": "stdout",
          "text": [
            "<class 'pandas.core.frame.DataFrame'>\n",
            "Int64Index: 9051 entries, 54477 to 63527\n",
            "Data columns (total 10 columns):\n",
            " #   Column                       Non-Null Count  Dtype  \n",
            "---  ------                       --------------  -----  \n",
            " 0   \"State Name\"                 9051 non-null   object \n",
            " 1   \"county Name\"                9051 non-null   object \n",
            " 2   \"State Code\"                 9051 non-null   object \n",
            " 3   \"County Code\"                9051 non-null   object \n",
            " 4   \"Date\"                       9051 non-null   object \n",
            " 5   \"AQI\"                        9051 non-null   float64\n",
            " 6   \"Category\"                   9051 non-null   object \n",
            " 7   \"Defining Parameter\"         9051 non-null   object \n",
            " 8   \"Defining Site\"              9051 non-null   object \n",
            " 9   \"Number of Sites Reporting\"  9051 non-null   float64\n",
            "dtypes: float64(2), object(8)\n",
            "memory usage: 777.8+ KB\n"
          ]
        }
      ]
    },
    {
      "cell_type": "markdown",
      "metadata": {
        "id": "Zp7wGDqJ4iuL"
      },
      "source": [
        "# Standardize attributes\n",
        "\n",
        "- Convert the \"college\" and \"considering_change_of_plan\" attributes to 0 or 1\n",
        "- Convert non-numeric attributes to numeric scale of 1-3\n"
      ]
    },
    {
      "cell_type": "code",
      "execution_count": 72,
      "metadata": {
        "colab": {
          "base_uri": "https://localhost:8080/"
        },
        "id": "xNDR1xg5dVzm",
        "outputId": "e80182b2-710c-4909-ee10-4520662cefa1"
      },
      "outputs": [
        {
          "output_type": "execute_result",
          "data": {
            "text/plain": [
              "array(['\"Indiana\"'], dtype=object)"
            ]
          },
          "metadata": {},
          "execution_count": 72
        }
      ],
      "source": [
        "#Get distinct values\n",
        "df_clean['\"State Name\"'].unique() "
      ]
    },
    {
      "cell_type": "code",
      "execution_count": 63,
      "metadata": {
        "colab": {
          "base_uri": "https://localhost:8080/"
        },
        "id": "cw6i_45td0JC",
        "outputId": "d2e68e05-71e6-4b74-c069-f9a57e86926a"
      },
      "outputs": [
        {
          "output_type": "execute_result",
          "data": {
            "text/plain": [
              "array(['\"Allen\"', '\"Bartholomew\"', '\"Boone\"', '\"Brown\"', '\"Carroll\"',\n",
              "       '\"Clark\"', '\"Daviess\"', '\"Delaware\"', '\"Dubois\"', '\"Elkhart\"',\n",
              "       '\"Floyd\"', '\"Gibson\"', '\"Greene\"', '\"Hamilton\"', '\"Hendricks\"',\n",
              "       '\"Henry\"', '\"Howard\"', '\"Knox\"', '\"LaPorte\"', '\"Lake\"',\n",
              "       '\"Madison\"', '\"Marion\"', '\"Monroe\"', '\"Perry\"', '\"Porter\"',\n",
              "       '\"Posey\"', '\"Shelby\"', '\"Spencer\"', '\"St. Joseph\"', '\"Tippecanoe\"',\n",
              "       '\"Vanderburgh\"', '\"Vigo\"', '\"Wabash\"', '\"Warrick\"', '\"Whitley\"'],\n",
              "      dtype=object)"
            ]
          },
          "metadata": {},
          "execution_count": 63
        }
      ],
      "source": [
        "df_clean['\"county Name\"'] .unique()"
      ]
    },
    {
      "cell_type": "code",
      "execution_count": 73,
      "metadata": {
        "colab": {
          "base_uri": "https://localhost:8080/"
        },
        "id": "YhFAu2W4dz_6",
        "outputId": "600decd1-8382-4849-8200-2e87fa3ed02c"
      },
      "outputs": [
        {
          "output_type": "execute_result",
          "data": {
            "text/plain": [
              "array(['\"Good\"', '\"Moderate\"', '\"Unhealthy for Sensitive Groups\"',\n",
              "       '\"Unhealthy\"'], dtype=object)"
            ]
          },
          "metadata": {},
          "execution_count": 73
        }
      ],
      "source": [
        "df_clean['\"Category\"'].unique()"
      ]
    },
    {
      "cell_type": "code",
      "source": [
        "df_clean['\"Defining Parameter\"'].unique()"
      ],
      "metadata": {
        "colab": {
          "base_uri": "https://localhost:8080/"
        },
        "id": "5cLt9cou_X4K",
        "outputId": "d2a903d4-c0db-4638-c3b9-253c7bd5014d"
      },
      "execution_count": 75,
      "outputs": [
        {
          "output_type": "execute_result",
          "data": {
            "text/plain": [
              "array(['\"PM2.5\"', '\"Ozone\"', '\"SO2\"', '\"PM10\"', '\"NO2\"', '\"CO\"'],\n",
              "      dtype=object)"
            ]
          },
          "metadata": {},
          "execution_count": 75
        }
      ]
    },
    {
      "cell_type": "code",
      "execution_count": 76,
      "metadata": {
        "colab": {
          "base_uri": "https://localhost:8080/",
          "height": 635
        },
        "id": "gvMekcKg4y5X",
        "outputId": "750e43f4-cf43-4076-840f-088c0bdb7780"
      },
      "outputs": [
        {
          "output_type": "execute_result",
          "data": {
            "text/plain": [
              "      \"State Name\" \"county Name\" \"State Code\" \"County Code\"        \"Date\"  \\\n",
              "54477    \"Indiana\"       \"Allen\"         \"18\"         \"003\"  \"2021-01-01\"   \n",
              "54478    \"Indiana\"       \"Allen\"         \"18\"         \"003\"  \"2021-01-02\"   \n",
              "54479    \"Indiana\"       \"Allen\"         \"18\"         \"003\"  \"2021-01-03\"   \n",
              "54480    \"Indiana\"       \"Allen\"         \"18\"         \"003\"  \"2021-01-04\"   \n",
              "54481    \"Indiana\"       \"Allen\"         \"18\"         \"003\"  \"2021-01-05\"   \n",
              "54482    \"Indiana\"       \"Allen\"         \"18\"         \"003\"  \"2021-01-06\"   \n",
              "54483    \"Indiana\"       \"Allen\"         \"18\"         \"003\"  \"2021-01-07\"   \n",
              "54484    \"Indiana\"       \"Allen\"         \"18\"         \"003\"  \"2021-01-08\"   \n",
              "54485    \"Indiana\"       \"Allen\"         \"18\"         \"003\"  \"2021-01-09\"   \n",
              "54486    \"Indiana\"       \"Allen\"         \"18\"         \"003\"  \"2021-01-10\"   \n",
              "\n",
              "       \"AQI\"  \"Category\" \"Defining Parameter\" \"Defining Site\"  \\\n",
              "54477   29.0           4              \"PM2.5\"   \"18-003-0004\"   \n",
              "54478   20.0           4              \"Ozone\"   \"18-003-0002\"   \n",
              "54479   22.0           4              \"PM2.5\"   \"18-003-0004\"   \n",
              "54480   31.0           4              \"PM2.5\"   \"18-003-0004\"   \n",
              "54481   43.0           4              \"PM2.5\"   \"18-003-0004\"   \n",
              "54482   26.0           4              \"Ozone\"   \"18-003-0002\"   \n",
              "54483   27.0           4              \"Ozone\"   \"18-003-0002\"   \n",
              "54484   28.0           4              \"Ozone\"   \"18-003-0002\"   \n",
              "54485   30.0           4              \"Ozone\"   \"18-003-0004\"   \n",
              "54486   58.0           3              \"PM2.5\"   \"18-003-0004\"   \n",
              "\n",
              "       \"Number of Sites Reporting\"  \"PM2.5\"  \"Ozone\"  \"SO2\"  \"PM10\"  \"NO2\"  \\\n",
              "54477                          2.0        1        0      0       0      0   \n",
              "54478                          2.0        0        1      0       0      0   \n",
              "54479                          2.0        1        0      0       0      0   \n",
              "54480                          2.0        1        0      0       0      0   \n",
              "54481                          2.0        1        0      0       0      0   \n",
              "54482                          2.0        0        1      0       0      0   \n",
              "54483                          2.0        0        1      0       0      0   \n",
              "54484                          2.0        0        1      0       0      0   \n",
              "54485                          2.0        0        1      0       0      0   \n",
              "54486                          2.0        1        0      0       0      0   \n",
              "\n",
              "       \"CO\"  \n",
              "54477     0  \n",
              "54478     0  \n",
              "54479     0  \n",
              "54480     0  \n",
              "54481     0  \n",
              "54482     0  \n",
              "54483     0  \n",
              "54484     0  \n",
              "54485     0  \n",
              "54486     0  "
            ],
            "text/html": [
              "\n",
              "  <div id=\"df-5b996b63-1b88-4b6e-9897-309b4ff55b59\">\n",
              "    <div class=\"colab-df-container\">\n",
              "      <div>\n",
              "<style scoped>\n",
              "    .dataframe tbody tr th:only-of-type {\n",
              "        vertical-align: middle;\n",
              "    }\n",
              "\n",
              "    .dataframe tbody tr th {\n",
              "        vertical-align: top;\n",
              "    }\n",
              "\n",
              "    .dataframe thead th {\n",
              "        text-align: right;\n",
              "    }\n",
              "</style>\n",
              "<table border=\"1\" class=\"dataframe\">\n",
              "  <thead>\n",
              "    <tr style=\"text-align: right;\">\n",
              "      <th></th>\n",
              "      <th>\"State Name\"</th>\n",
              "      <th>\"county Name\"</th>\n",
              "      <th>\"State Code\"</th>\n",
              "      <th>\"County Code\"</th>\n",
              "      <th>\"Date\"</th>\n",
              "      <th>\"AQI\"</th>\n",
              "      <th>\"Category\"</th>\n",
              "      <th>\"Defining Parameter\"</th>\n",
              "      <th>\"Defining Site\"</th>\n",
              "      <th>\"Number of Sites Reporting\"</th>\n",
              "      <th>\"PM2.5\"</th>\n",
              "      <th>\"Ozone\"</th>\n",
              "      <th>\"SO2\"</th>\n",
              "      <th>\"PM10\"</th>\n",
              "      <th>\"NO2\"</th>\n",
              "      <th>\"CO\"</th>\n",
              "    </tr>\n",
              "  </thead>\n",
              "  <tbody>\n",
              "    <tr>\n",
              "      <th>54477</th>\n",
              "      <td>\"Indiana\"</td>\n",
              "      <td>\"Allen\"</td>\n",
              "      <td>\"18\"</td>\n",
              "      <td>\"003\"</td>\n",
              "      <td>\"2021-01-01\"</td>\n",
              "      <td>29.0</td>\n",
              "      <td>4</td>\n",
              "      <td>\"PM2.5\"</td>\n",
              "      <td>\"18-003-0004\"</td>\n",
              "      <td>2.0</td>\n",
              "      <td>1</td>\n",
              "      <td>0</td>\n",
              "      <td>0</td>\n",
              "      <td>0</td>\n",
              "      <td>0</td>\n",
              "      <td>0</td>\n",
              "    </tr>\n",
              "    <tr>\n",
              "      <th>54478</th>\n",
              "      <td>\"Indiana\"</td>\n",
              "      <td>\"Allen\"</td>\n",
              "      <td>\"18\"</td>\n",
              "      <td>\"003\"</td>\n",
              "      <td>\"2021-01-02\"</td>\n",
              "      <td>20.0</td>\n",
              "      <td>4</td>\n",
              "      <td>\"Ozone\"</td>\n",
              "      <td>\"18-003-0002\"</td>\n",
              "      <td>2.0</td>\n",
              "      <td>0</td>\n",
              "      <td>1</td>\n",
              "      <td>0</td>\n",
              "      <td>0</td>\n",
              "      <td>0</td>\n",
              "      <td>0</td>\n",
              "    </tr>\n",
              "    <tr>\n",
              "      <th>54479</th>\n",
              "      <td>\"Indiana\"</td>\n",
              "      <td>\"Allen\"</td>\n",
              "      <td>\"18\"</td>\n",
              "      <td>\"003\"</td>\n",
              "      <td>\"2021-01-03\"</td>\n",
              "      <td>22.0</td>\n",
              "      <td>4</td>\n",
              "      <td>\"PM2.5\"</td>\n",
              "      <td>\"18-003-0004\"</td>\n",
              "      <td>2.0</td>\n",
              "      <td>1</td>\n",
              "      <td>0</td>\n",
              "      <td>0</td>\n",
              "      <td>0</td>\n",
              "      <td>0</td>\n",
              "      <td>0</td>\n",
              "    </tr>\n",
              "    <tr>\n",
              "      <th>54480</th>\n",
              "      <td>\"Indiana\"</td>\n",
              "      <td>\"Allen\"</td>\n",
              "      <td>\"18\"</td>\n",
              "      <td>\"003\"</td>\n",
              "      <td>\"2021-01-04\"</td>\n",
              "      <td>31.0</td>\n",
              "      <td>4</td>\n",
              "      <td>\"PM2.5\"</td>\n",
              "      <td>\"18-003-0004\"</td>\n",
              "      <td>2.0</td>\n",
              "      <td>1</td>\n",
              "      <td>0</td>\n",
              "      <td>0</td>\n",
              "      <td>0</td>\n",
              "      <td>0</td>\n",
              "      <td>0</td>\n",
              "    </tr>\n",
              "    <tr>\n",
              "      <th>54481</th>\n",
              "      <td>\"Indiana\"</td>\n",
              "      <td>\"Allen\"</td>\n",
              "      <td>\"18\"</td>\n",
              "      <td>\"003\"</td>\n",
              "      <td>\"2021-01-05\"</td>\n",
              "      <td>43.0</td>\n",
              "      <td>4</td>\n",
              "      <td>\"PM2.5\"</td>\n",
              "      <td>\"18-003-0004\"</td>\n",
              "      <td>2.0</td>\n",
              "      <td>1</td>\n",
              "      <td>0</td>\n",
              "      <td>0</td>\n",
              "      <td>0</td>\n",
              "      <td>0</td>\n",
              "      <td>0</td>\n",
              "    </tr>\n",
              "    <tr>\n",
              "      <th>54482</th>\n",
              "      <td>\"Indiana\"</td>\n",
              "      <td>\"Allen\"</td>\n",
              "      <td>\"18\"</td>\n",
              "      <td>\"003\"</td>\n",
              "      <td>\"2021-01-06\"</td>\n",
              "      <td>26.0</td>\n",
              "      <td>4</td>\n",
              "      <td>\"Ozone\"</td>\n",
              "      <td>\"18-003-0002\"</td>\n",
              "      <td>2.0</td>\n",
              "      <td>0</td>\n",
              "      <td>1</td>\n",
              "      <td>0</td>\n",
              "      <td>0</td>\n",
              "      <td>0</td>\n",
              "      <td>0</td>\n",
              "    </tr>\n",
              "    <tr>\n",
              "      <th>54483</th>\n",
              "      <td>\"Indiana\"</td>\n",
              "      <td>\"Allen\"</td>\n",
              "      <td>\"18\"</td>\n",
              "      <td>\"003\"</td>\n",
              "      <td>\"2021-01-07\"</td>\n",
              "      <td>27.0</td>\n",
              "      <td>4</td>\n",
              "      <td>\"Ozone\"</td>\n",
              "      <td>\"18-003-0002\"</td>\n",
              "      <td>2.0</td>\n",
              "      <td>0</td>\n",
              "      <td>1</td>\n",
              "      <td>0</td>\n",
              "      <td>0</td>\n",
              "      <td>0</td>\n",
              "      <td>0</td>\n",
              "    </tr>\n",
              "    <tr>\n",
              "      <th>54484</th>\n",
              "      <td>\"Indiana\"</td>\n",
              "      <td>\"Allen\"</td>\n",
              "      <td>\"18\"</td>\n",
              "      <td>\"003\"</td>\n",
              "      <td>\"2021-01-08\"</td>\n",
              "      <td>28.0</td>\n",
              "      <td>4</td>\n",
              "      <td>\"Ozone\"</td>\n",
              "      <td>\"18-003-0002\"</td>\n",
              "      <td>2.0</td>\n",
              "      <td>0</td>\n",
              "      <td>1</td>\n",
              "      <td>0</td>\n",
              "      <td>0</td>\n",
              "      <td>0</td>\n",
              "      <td>0</td>\n",
              "    </tr>\n",
              "    <tr>\n",
              "      <th>54485</th>\n",
              "      <td>\"Indiana\"</td>\n",
              "      <td>\"Allen\"</td>\n",
              "      <td>\"18\"</td>\n",
              "      <td>\"003\"</td>\n",
              "      <td>\"2021-01-09\"</td>\n",
              "      <td>30.0</td>\n",
              "      <td>4</td>\n",
              "      <td>\"Ozone\"</td>\n",
              "      <td>\"18-003-0004\"</td>\n",
              "      <td>2.0</td>\n",
              "      <td>0</td>\n",
              "      <td>1</td>\n",
              "      <td>0</td>\n",
              "      <td>0</td>\n",
              "      <td>0</td>\n",
              "      <td>0</td>\n",
              "    </tr>\n",
              "    <tr>\n",
              "      <th>54486</th>\n",
              "      <td>\"Indiana\"</td>\n",
              "      <td>\"Allen\"</td>\n",
              "      <td>\"18\"</td>\n",
              "      <td>\"003\"</td>\n",
              "      <td>\"2021-01-10\"</td>\n",
              "      <td>58.0</td>\n",
              "      <td>3</td>\n",
              "      <td>\"PM2.5\"</td>\n",
              "      <td>\"18-003-0004\"</td>\n",
              "      <td>2.0</td>\n",
              "      <td>1</td>\n",
              "      <td>0</td>\n",
              "      <td>0</td>\n",
              "      <td>0</td>\n",
              "      <td>0</td>\n",
              "      <td>0</td>\n",
              "    </tr>\n",
              "  </tbody>\n",
              "</table>\n",
              "</div>\n",
              "      <button class=\"colab-df-convert\" onclick=\"convertToInteractive('df-5b996b63-1b88-4b6e-9897-309b4ff55b59')\"\n",
              "              title=\"Convert this dataframe to an interactive table.\"\n",
              "              style=\"display:none;\">\n",
              "        \n",
              "  <svg xmlns=\"http://www.w3.org/2000/svg\" height=\"24px\"viewBox=\"0 0 24 24\"\n",
              "       width=\"24px\">\n",
              "    <path d=\"M0 0h24v24H0V0z\" fill=\"none\"/>\n",
              "    <path d=\"M18.56 5.44l.94 2.06.94-2.06 2.06-.94-2.06-.94-.94-2.06-.94 2.06-2.06.94zm-11 1L8.5 8.5l.94-2.06 2.06-.94-2.06-.94L8.5 2.5l-.94 2.06-2.06.94zm10 10l.94 2.06.94-2.06 2.06-.94-2.06-.94-.94-2.06-.94 2.06-2.06.94z\"/><path d=\"M17.41 7.96l-1.37-1.37c-.4-.4-.92-.59-1.43-.59-.52 0-1.04.2-1.43.59L10.3 9.45l-7.72 7.72c-.78.78-.78 2.05 0 2.83L4 21.41c.39.39.9.59 1.41.59.51 0 1.02-.2 1.41-.59l7.78-7.78 2.81-2.81c.8-.78.8-2.07 0-2.86zM5.41 20L4 18.59l7.72-7.72 1.47 1.35L5.41 20z\"/>\n",
              "  </svg>\n",
              "      </button>\n",
              "      \n",
              "  <style>\n",
              "    .colab-df-container {\n",
              "      display:flex;\n",
              "      flex-wrap:wrap;\n",
              "      gap: 12px;\n",
              "    }\n",
              "\n",
              "    .colab-df-convert {\n",
              "      background-color: #E8F0FE;\n",
              "      border: none;\n",
              "      border-radius: 50%;\n",
              "      cursor: pointer;\n",
              "      display: none;\n",
              "      fill: #1967D2;\n",
              "      height: 32px;\n",
              "      padding: 0 0 0 0;\n",
              "      width: 32px;\n",
              "    }\n",
              "\n",
              "    .colab-df-convert:hover {\n",
              "      background-color: #E2EBFA;\n",
              "      box-shadow: 0px 1px 2px rgba(60, 64, 67, 0.3), 0px 1px 3px 1px rgba(60, 64, 67, 0.15);\n",
              "      fill: #174EA6;\n",
              "    }\n",
              "\n",
              "    [theme=dark] .colab-df-convert {\n",
              "      background-color: #3B4455;\n",
              "      fill: #D2E3FC;\n",
              "    }\n",
              "\n",
              "    [theme=dark] .colab-df-convert:hover {\n",
              "      background-color: #434B5C;\n",
              "      box-shadow: 0px 1px 3px 1px rgba(0, 0, 0, 0.15);\n",
              "      filter: drop-shadow(0px 1px 2px rgba(0, 0, 0, 0.3));\n",
              "      fill: #FFFFFF;\n",
              "    }\n",
              "  </style>\n",
              "\n",
              "      <script>\n",
              "        const buttonEl =\n",
              "          document.querySelector('#df-5b996b63-1b88-4b6e-9897-309b4ff55b59 button.colab-df-convert');\n",
              "        buttonEl.style.display =\n",
              "          google.colab.kernel.accessAllowed ? 'block' : 'none';\n",
              "\n",
              "        async function convertToInteractive(key) {\n",
              "          const element = document.querySelector('#df-5b996b63-1b88-4b6e-9897-309b4ff55b59');\n",
              "          const dataTable =\n",
              "            await google.colab.kernel.invokeFunction('convertToInteractive',\n",
              "                                                     [key], {});\n",
              "          if (!dataTable) return;\n",
              "\n",
              "          const docLinkHtml = 'Like what you see? Visit the ' +\n",
              "            '<a target=\"_blank\" href=https://colab.research.google.com/notebooks/data_table.ipynb>data table notebook</a>'\n",
              "            + ' to learn more about interactive tables.';\n",
              "          element.innerHTML = '';\n",
              "          dataTable['output_type'] = 'display_data';\n",
              "          await google.colab.output.renderOutput(dataTable, element);\n",
              "          const docLink = document.createElement('div');\n",
              "          docLink.innerHTML = docLinkHtml;\n",
              "          element.appendChild(docLink);\n",
              "        }\n",
              "      </script>\n",
              "    </div>\n",
              "  </div>\n",
              "  "
            ]
          },
          "metadata": {},
          "execution_count": 76
        }
      ],
      "source": [
        "df_clean.loc[df_clean['\"Category\"'] == '\"Good\"', '\"Category\"'] = \"4\"\n",
        "df_clean.loc[df_clean['\"Category\"'] == '\"Moderate\"', '\"Category\"'] = \"3\"\n",
        "df_clean.loc[df_clean['\"Category\"'] == '\"Unhealthy for Sensitive Groups\"', '\"Category\"'] = \"2\"\n",
        "df_clean.loc[df_clean['\"Category\"'] == '\"Unhealthy\"', '\"Category\"'] = \"1\"\n",
        "\n",
        "\n",
        "df_clean.loc[df_clean['\"Defining Parameter\"'] == '\"PM2.5\"', '\"PM2.5\"'] = \"1\"\n",
        "df_clean.loc[df_clean['\"Defining Parameter\"'] != '\"PM2.5\"', '\"PM2.5\"'] = \"0\"\n",
        "\n",
        "df_clean.loc[df_clean['\"Defining Parameter\"'] == '\"Ozone\"', '\"Ozone\"'] = \"1\"\n",
        "df_clean.loc[df_clean['\"Defining Parameter\"'] != '\"Ozone\"', '\"Ozone\"'] = \"0\"\n",
        "\n",
        "df_clean.loc[df_clean['\"Defining Parameter\"'] == '\"SO2\"', '\"SO2\"'] = \"1\"\n",
        "df_clean.loc[df_clean['\"Defining Parameter\"'] != '\"SO2\"', '\"SO2\"'] = \"0\"\n",
        "\n",
        "df_clean.loc[df_clean['\"Defining Parameter\"'] == '\"PM10\"', '\"PM10\"'] = \"1\"\n",
        "df_clean.loc[df_clean['\"Defining Parameter\"'] != '\"PM10\"', '\"PM10\"'] = \"0\"\n",
        "\n",
        "df_clean.loc[df_clean['\"Defining Parameter\"'] == '\"NO2\"', '\"NO2\"'] = \"1\"\n",
        "df_clean.loc[df_clean['\"Defining Parameter\"'] != '\"NO2\"', '\"NO2\"'] = \"0\"\n",
        "\n",
        "df_clean.loc[df_clean['\"Defining Parameter\"'] == '\"CO\"', '\"CO\"'] = \"1\"\n",
        "df_clean.loc[df_clean['\"Defining Parameter\"'] != '\"CO\"', '\"CO\"'] = \"0\"\n",
        "\n",
        "df_clean['\"Category\"'] = df_clean['\"Category\"'].astype('int')\n",
        "\n",
        "df_clean['\"PM2.5\"'] = df_clean['\"PM2.5\"'].astype('int') \n",
        "df_clean['\"Ozone\"'] = df_clean['\"Ozone\"'].astype('int') \n",
        "df_clean['\"SO2\"'] = df_clean['\"SO2\"'].astype('int')\n",
        "df_clean['\"PM10\"'] = df_clean['\"PM10\"'].astype('int')\n",
        "df_clean['\"NO2\"'] = df_clean['\"NO2\"'].astype('int')\n",
        "df_clean['\"CO\"'] = df_clean['\"CO\"'].astype('int')\n",
        "\n",
        "\n",
        "df_clean.head(10) "
      ]
    },
    {
      "cell_type": "markdown",
      "metadata": {
        "id": "uathUi6xfDPf"
      },
      "source": [
        "## Calculate distribution of the outcome  \n",
        "What is the proportion of people who churned?\n",
        "\n",
        "Why should we care about this proportion?\n",
        "\n",
        "1. An important step in EDA is to understand the distribution of the target variable.\n",
        "\n",
        "2. The majority class in the target variable will serve as an important benchmark for model performance. If we used what we'll call a \"majority class classifier\"---this consists in always predicting the majority class, which in this case is `STAY`---we would be correct 1 - .49 or 51% of the time.  Another way of saying this is that majority class classifier in the MegaTelCo case would result in accuracy of .51.  \n",
        "\n",
        "Accuracy is defined as the proportion of correctly predicted labels. It is a commonly used error metric for evaluating classifier performance.\n",
        "\n",
        "Think about why a majority class model in this case would have an accuracy of .51.\n",
        "\n",
        "Whatever later model we develop should have better accuracy than this performance benchmark."
      ]
    },
    {
      "cell_type": "code",
      "execution_count": null,
      "metadata": {
        "id": "bC93rEgNfFNh"
      },
      "outputs": [],
      "source": [
        "#Add new field with binary value for leave  \n",
        "df_clean['leave_flag'] = df_clean['leave'].str.replace('STAY','0')  \n",
        "df_clean['leave_flag'] = df_clean['leave_flag'].str.replace('LEAVE','1')\n",
        "\n",
        "#Convert to integer\n",
        "df_clean['leave_flag'] = df_clean['leave_flag'].astype('int')\n",
        "\n",
        "#Find the mean value\n",
        "df_clean['leave_flag'].mean()\n"
      ]
    },
    {
      "cell_type": "code",
      "source": [
        "df_clean.head(5)"
      ],
      "metadata": {
        "colab": {
          "base_uri": "https://localhost:8080/",
          "height": 391
        },
        "id": "BsnQDioIBL6v",
        "outputId": "2f6b40af-7544-4673-fd20-b998753323cd"
      },
      "execution_count": 78,
      "outputs": [
        {
          "output_type": "execute_result",
          "data": {
            "text/plain": [
              "      \"State Name\" \"county Name\" \"State Code\" \"County Code\"        \"Date\"  \\\n",
              "54477    \"Indiana\"       \"Allen\"         \"18\"         \"003\"  \"2021-01-01\"   \n",
              "54478    \"Indiana\"       \"Allen\"         \"18\"         \"003\"  \"2021-01-02\"   \n",
              "54479    \"Indiana\"       \"Allen\"         \"18\"         \"003\"  \"2021-01-03\"   \n",
              "54480    \"Indiana\"       \"Allen\"         \"18\"         \"003\"  \"2021-01-04\"   \n",
              "54481    \"Indiana\"       \"Allen\"         \"18\"         \"003\"  \"2021-01-05\"   \n",
              "\n",
              "       \"AQI\"  \"Category\" \"Defining Parameter\" \"Defining Site\"  \\\n",
              "54477   29.0           4              \"PM2.5\"   \"18-003-0004\"   \n",
              "54478   20.0           4              \"Ozone\"   \"18-003-0002\"   \n",
              "54479   22.0           4              \"PM2.5\"   \"18-003-0004\"   \n",
              "54480   31.0           4              \"PM2.5\"   \"18-003-0004\"   \n",
              "54481   43.0           4              \"PM2.5\"   \"18-003-0004\"   \n",
              "\n",
              "       \"Number of Sites Reporting\"  \"PM2.5\"  \"Ozone\"  \"SO2\"  \"PM10\"  \"NO2\"  \\\n",
              "54477                          2.0        1        0      0       0      0   \n",
              "54478                          2.0        0        1      0       0      0   \n",
              "54479                          2.0        1        0      0       0      0   \n",
              "54480                          2.0        1        0      0       0      0   \n",
              "54481                          2.0        1        0      0       0      0   \n",
              "\n",
              "       \"CO\"  \n",
              "54477     0  \n",
              "54478     0  \n",
              "54479     0  \n",
              "54480     0  \n",
              "54481     0  "
            ],
            "text/html": [
              "\n",
              "  <div id=\"df-806ec7be-0cef-4fbb-adee-812c3ba153d8\">\n",
              "    <div class=\"colab-df-container\">\n",
              "      <div>\n",
              "<style scoped>\n",
              "    .dataframe tbody tr th:only-of-type {\n",
              "        vertical-align: middle;\n",
              "    }\n",
              "\n",
              "    .dataframe tbody tr th {\n",
              "        vertical-align: top;\n",
              "    }\n",
              "\n",
              "    .dataframe thead th {\n",
              "        text-align: right;\n",
              "    }\n",
              "</style>\n",
              "<table border=\"1\" class=\"dataframe\">\n",
              "  <thead>\n",
              "    <tr style=\"text-align: right;\">\n",
              "      <th></th>\n",
              "      <th>\"State Name\"</th>\n",
              "      <th>\"county Name\"</th>\n",
              "      <th>\"State Code\"</th>\n",
              "      <th>\"County Code\"</th>\n",
              "      <th>\"Date\"</th>\n",
              "      <th>\"AQI\"</th>\n",
              "      <th>\"Category\"</th>\n",
              "      <th>\"Defining Parameter\"</th>\n",
              "      <th>\"Defining Site\"</th>\n",
              "      <th>\"Number of Sites Reporting\"</th>\n",
              "      <th>\"PM2.5\"</th>\n",
              "      <th>\"Ozone\"</th>\n",
              "      <th>\"SO2\"</th>\n",
              "      <th>\"PM10\"</th>\n",
              "      <th>\"NO2\"</th>\n",
              "      <th>\"CO\"</th>\n",
              "    </tr>\n",
              "  </thead>\n",
              "  <tbody>\n",
              "    <tr>\n",
              "      <th>54477</th>\n",
              "      <td>\"Indiana\"</td>\n",
              "      <td>\"Allen\"</td>\n",
              "      <td>\"18\"</td>\n",
              "      <td>\"003\"</td>\n",
              "      <td>\"2021-01-01\"</td>\n",
              "      <td>29.0</td>\n",
              "      <td>4</td>\n",
              "      <td>\"PM2.5\"</td>\n",
              "      <td>\"18-003-0004\"</td>\n",
              "      <td>2.0</td>\n",
              "      <td>1</td>\n",
              "      <td>0</td>\n",
              "      <td>0</td>\n",
              "      <td>0</td>\n",
              "      <td>0</td>\n",
              "      <td>0</td>\n",
              "    </tr>\n",
              "    <tr>\n",
              "      <th>54478</th>\n",
              "      <td>\"Indiana\"</td>\n",
              "      <td>\"Allen\"</td>\n",
              "      <td>\"18\"</td>\n",
              "      <td>\"003\"</td>\n",
              "      <td>\"2021-01-02\"</td>\n",
              "      <td>20.0</td>\n",
              "      <td>4</td>\n",
              "      <td>\"Ozone\"</td>\n",
              "      <td>\"18-003-0002\"</td>\n",
              "      <td>2.0</td>\n",
              "      <td>0</td>\n",
              "      <td>1</td>\n",
              "      <td>0</td>\n",
              "      <td>0</td>\n",
              "      <td>0</td>\n",
              "      <td>0</td>\n",
              "    </tr>\n",
              "    <tr>\n",
              "      <th>54479</th>\n",
              "      <td>\"Indiana\"</td>\n",
              "      <td>\"Allen\"</td>\n",
              "      <td>\"18\"</td>\n",
              "      <td>\"003\"</td>\n",
              "      <td>\"2021-01-03\"</td>\n",
              "      <td>22.0</td>\n",
              "      <td>4</td>\n",
              "      <td>\"PM2.5\"</td>\n",
              "      <td>\"18-003-0004\"</td>\n",
              "      <td>2.0</td>\n",
              "      <td>1</td>\n",
              "      <td>0</td>\n",
              "      <td>0</td>\n",
              "      <td>0</td>\n",
              "      <td>0</td>\n",
              "      <td>0</td>\n",
              "    </tr>\n",
              "    <tr>\n",
              "      <th>54480</th>\n",
              "      <td>\"Indiana\"</td>\n",
              "      <td>\"Allen\"</td>\n",
              "      <td>\"18\"</td>\n",
              "      <td>\"003\"</td>\n",
              "      <td>\"2021-01-04\"</td>\n",
              "      <td>31.0</td>\n",
              "      <td>4</td>\n",
              "      <td>\"PM2.5\"</td>\n",
              "      <td>\"18-003-0004\"</td>\n",
              "      <td>2.0</td>\n",
              "      <td>1</td>\n",
              "      <td>0</td>\n",
              "      <td>0</td>\n",
              "      <td>0</td>\n",
              "      <td>0</td>\n",
              "      <td>0</td>\n",
              "    </tr>\n",
              "    <tr>\n",
              "      <th>54481</th>\n",
              "      <td>\"Indiana\"</td>\n",
              "      <td>\"Allen\"</td>\n",
              "      <td>\"18\"</td>\n",
              "      <td>\"003\"</td>\n",
              "      <td>\"2021-01-05\"</td>\n",
              "      <td>43.0</td>\n",
              "      <td>4</td>\n",
              "      <td>\"PM2.5\"</td>\n",
              "      <td>\"18-003-0004\"</td>\n",
              "      <td>2.0</td>\n",
              "      <td>1</td>\n",
              "      <td>0</td>\n",
              "      <td>0</td>\n",
              "      <td>0</td>\n",
              "      <td>0</td>\n",
              "      <td>0</td>\n",
              "    </tr>\n",
              "  </tbody>\n",
              "</table>\n",
              "</div>\n",
              "      <button class=\"colab-df-convert\" onclick=\"convertToInteractive('df-806ec7be-0cef-4fbb-adee-812c3ba153d8')\"\n",
              "              title=\"Convert this dataframe to an interactive table.\"\n",
              "              style=\"display:none;\">\n",
              "        \n",
              "  <svg xmlns=\"http://www.w3.org/2000/svg\" height=\"24px\"viewBox=\"0 0 24 24\"\n",
              "       width=\"24px\">\n",
              "    <path d=\"M0 0h24v24H0V0z\" fill=\"none\"/>\n",
              "    <path d=\"M18.56 5.44l.94 2.06.94-2.06 2.06-.94-2.06-.94-.94-2.06-.94 2.06-2.06.94zm-11 1L8.5 8.5l.94-2.06 2.06-.94-2.06-.94L8.5 2.5l-.94 2.06-2.06.94zm10 10l.94 2.06.94-2.06 2.06-.94-2.06-.94-.94-2.06-.94 2.06-2.06.94z\"/><path d=\"M17.41 7.96l-1.37-1.37c-.4-.4-.92-.59-1.43-.59-.52 0-1.04.2-1.43.59L10.3 9.45l-7.72 7.72c-.78.78-.78 2.05 0 2.83L4 21.41c.39.39.9.59 1.41.59.51 0 1.02-.2 1.41-.59l7.78-7.78 2.81-2.81c.8-.78.8-2.07 0-2.86zM5.41 20L4 18.59l7.72-7.72 1.47 1.35L5.41 20z\"/>\n",
              "  </svg>\n",
              "      </button>\n",
              "      \n",
              "  <style>\n",
              "    .colab-df-container {\n",
              "      display:flex;\n",
              "      flex-wrap:wrap;\n",
              "      gap: 12px;\n",
              "    }\n",
              "\n",
              "    .colab-df-convert {\n",
              "      background-color: #E8F0FE;\n",
              "      border: none;\n",
              "      border-radius: 50%;\n",
              "      cursor: pointer;\n",
              "      display: none;\n",
              "      fill: #1967D2;\n",
              "      height: 32px;\n",
              "      padding: 0 0 0 0;\n",
              "      width: 32px;\n",
              "    }\n",
              "\n",
              "    .colab-df-convert:hover {\n",
              "      background-color: #E2EBFA;\n",
              "      box-shadow: 0px 1px 2px rgba(60, 64, 67, 0.3), 0px 1px 3px 1px rgba(60, 64, 67, 0.15);\n",
              "      fill: #174EA6;\n",
              "    }\n",
              "\n",
              "    [theme=dark] .colab-df-convert {\n",
              "      background-color: #3B4455;\n",
              "      fill: #D2E3FC;\n",
              "    }\n",
              "\n",
              "    [theme=dark] .colab-df-convert:hover {\n",
              "      background-color: #434B5C;\n",
              "      box-shadow: 0px 1px 3px 1px rgba(0, 0, 0, 0.15);\n",
              "      filter: drop-shadow(0px 1px 2px rgba(0, 0, 0, 0.3));\n",
              "      fill: #FFFFFF;\n",
              "    }\n",
              "  </style>\n",
              "\n",
              "      <script>\n",
              "        const buttonEl =\n",
              "          document.querySelector('#df-806ec7be-0cef-4fbb-adee-812c3ba153d8 button.colab-df-convert');\n",
              "        buttonEl.style.display =\n",
              "          google.colab.kernel.accessAllowed ? 'block' : 'none';\n",
              "\n",
              "        async function convertToInteractive(key) {\n",
              "          const element = document.querySelector('#df-806ec7be-0cef-4fbb-adee-812c3ba153d8');\n",
              "          const dataTable =\n",
              "            await google.colab.kernel.invokeFunction('convertToInteractive',\n",
              "                                                     [key], {});\n",
              "          if (!dataTable) return;\n",
              "\n",
              "          const docLinkHtml = 'Like what you see? Visit the ' +\n",
              "            '<a target=\"_blank\" href=https://colab.research.google.com/notebooks/data_table.ipynb>data table notebook</a>'\n",
              "            + ' to learn more about interactive tables.';\n",
              "          element.innerHTML = '';\n",
              "          dataTable['output_type'] = 'display_data';\n",
              "          await google.colab.output.renderOutput(dataTable, element);\n",
              "          const docLink = document.createElement('div');\n",
              "          docLink.innerHTML = docLinkHtml;\n",
              "          element.appendChild(docLink);\n",
              "        }\n",
              "      </script>\n",
              "    </div>\n",
              "  </div>\n",
              "  "
            ]
          },
          "metadata": {},
          "execution_count": 78
        }
      ]
    },
    {
      "cell_type": "markdown",
      "metadata": {
        "id": "SoJLJMlceORN"
      },
      "source": [
        "## Fit a basic tree model\n",
        "\n",
        "Use just two variables, 'income' and 'house'. We'll call this the \"money tree.\" \n",
        "\n",
        "What is the accuracy of the money tree? "
      ]
    },
    {
      "cell_type": "code",
      "execution_count": 81,
      "metadata": {
        "id": "WBH7aRXbOUf4"
      },
      "outputs": [],
      "source": [
        "# split the datafram into independent (x) and dependent (predicted) attributes (y)\n",
        "x = df_clean[['\"AQI\"','\"Number of Sites Reporting\"','\"PM2.5\"','\"Ozone\"','\"SO2\"','\"PM10\"','\"NO2\"','\"CO\"']]\n",
        "y = df_clean['\"Category\"']\n",
        "\n",
        "category_tree = DecisionTreeClassifier()\n",
        "\n",
        "# Create Decision Tree Classifer\n",
        "category_tree = category_tree.fit(x,y)\n"
      ]
    },
    {
      "cell_type": "markdown",
      "metadata": {
        "id": "x5n0jUSL8Nde"
      },
      "source": [
        "## Preview the tree\n"
      ]
    },
    {
      "cell_type": "code",
      "execution_count": 82,
      "metadata": {
        "colab": {
          "base_uri": "https://localhost:8080/"
        },
        "id": "lUzUB50D8SHt",
        "outputId": "dcf4867f-3b5c-4c47-abd7-a3583604fd1d"
      },
      "outputs": [
        {
          "output_type": "stream",
          "name": "stdout",
          "text": [
            "|--- feature_0 <= 50.50\n",
            "|   |--- class: 4\n",
            "|--- feature_0 >  50.50\n",
            "|   |--- feature_0 <= 100.50\n",
            "|   |   |--- class: 3\n",
            "|   |--- feature_0 >  100.50\n",
            "|   |   |--- feature_0 <= 156.00\n",
            "|   |   |   |--- class: 2\n",
            "|   |   |--- feature_0 >  156.00\n",
            "|   |   |   |--- class: 1\n",
            "\n"
          ]
        }
      ],
      "source": [
        "category_tree_text = tree.export_text(category_tree)\n",
        "print(category_tree_text)"
      ]
    },
    {
      "cell_type": "markdown",
      "metadata": {
        "id": "sSNfQKZA3jg2"
      },
      "source": [
        "## Check Accuracy\n",
        "\n",
        "What is the accuracy of the money_tree? Use these steps to calculate accuracy.\n",
        "\n",
        "Is this over fitted?"
      ]
    },
    {
      "cell_type": "code",
      "execution_count": 83,
      "metadata": {
        "colab": {
          "base_uri": "https://localhost:8080/"
        },
        "id": "eVOSIP8SeYg3",
        "outputId": "d5b81910-6eee-4dd3-aa70-a5446164e0be"
      },
      "outputs": [
        {
          "output_type": "stream",
          "name": "stdout",
          "text": [
            "Accuracy: 1.0\n"
          ]
        }
      ],
      "source": [
        "pred = category_tree.predict(x)\n",
        "\n",
        "#print(pred)\n",
        "\n",
        "print(\"Accuracy:\",metrics.accuracy_score(y, pred))"
      ]
    },
    {
      "cell_type": "markdown",
      "metadata": {
        "id": "bLm9U6FV5XB2"
      },
      "source": [
        "## Prune the tree\n",
        "\n",
        "Limit the number of levels to 2"
      ]
    },
    {
      "cell_type": "code",
      "execution_count": 85,
      "metadata": {
        "id": "eVaCrCeU5kmt"
      },
      "outputs": [],
      "source": [
        "category_tree2 = DecisionTreeClassifier(criterion=\"entropy\", max_depth=2)\n",
        "\n",
        "# Create Decision Tree Classifer\n",
        "category_tree2 = category_tree2.fit(x,y)\n"
      ]
    },
    {
      "cell_type": "markdown",
      "metadata": {
        "id": "kmKO3QVT8apE"
      },
      "source": [
        "## Preview the new tree"
      ]
    },
    {
      "cell_type": "code",
      "execution_count": 87,
      "metadata": {
        "colab": {
          "base_uri": "https://localhost:8080/"
        },
        "id": "83PSEPJd8e3i",
        "outputId": "3d4fc936-0a26-46f5-deb2-4239ffe49ed9"
      },
      "outputs": [
        {
          "output_type": "stream",
          "name": "stdout",
          "text": [
            "|--- feature_0 <= 50.50\n",
            "|   |--- class: 4\n",
            "|--- feature_0 >  50.50\n",
            "|   |--- feature_0 <= 100.50\n",
            "|   |   |--- class: 3\n",
            "|   |--- feature_0 >  100.50\n",
            "|   |   |--- class: 2\n",
            "\n"
          ]
        }
      ],
      "source": [
        "category_tree2_text = tree.export_text(category_tree2)\n",
        "print(category_tree2_text)"
      ]
    },
    {
      "cell_type": "markdown",
      "metadata": {
        "id": "KqK2LiaU7K1e"
      },
      "source": [
        "## Re-Check Accuracy\n",
        "\n",
        "Is this accuracy better than making a random guess?  (check the distribution above)"
      ]
    },
    {
      "cell_type": "code",
      "execution_count": 88,
      "metadata": {
        "colab": {
          "base_uri": "https://localhost:8080/"
        },
        "id": "C2WGouWs6L5d",
        "outputId": "d56b54d2-034b-4122-d1e2-71e1a7d5617c"
      },
      "outputs": [
        {
          "output_type": "stream",
          "name": "stdout",
          "text": [
            "Accuracy: 0.9998895149707214\n"
          ]
        }
      ],
      "source": [
        "pred = category_tree2.predict(x)\n",
        "\n",
        "print(\"Accuracy:\",metrics.accuracy_score(y, pred))"
      ]
    },
    {
      "cell_type": "markdown",
      "metadata": {
        "id": "tYqqwO1l3e5l"
      },
      "source": [
        "## Visualize the model"
      ]
    },
    {
      "cell_type": "code",
      "execution_count": 90,
      "metadata": {
        "colab": {
          "base_uri": "https://localhost:8080/",
          "height": 381
        },
        "id": "yj--WKic3c_x",
        "outputId": "4757d19a-1c42-4665-b336-c5bcabea0adf"
      },
      "outputs": [
        {
          "output_type": "error",
          "ename": "IndexError",
          "evalue": "ignored",
          "traceback": [
            "\u001b[0;31m---------------------------------------------------------------------------\u001b[0m",
            "\u001b[0;31mIndexError\u001b[0m                                Traceback (most recent call last)",
            "\u001b[0;32m<ipython-input-90-4bab004766c7>\u001b[0m in \u001b[0;36m<cell line: 6>\u001b[0;34m()\u001b[0m\n\u001b[1;32m      4\u001b[0m \u001b[0;34m\u001b[0m\u001b[0m\n\u001b[1;32m      5\u001b[0m \u001b[0mdot_data\u001b[0m \u001b[0;34m=\u001b[0m \u001b[0mStringIO\u001b[0m\u001b[0;34m(\u001b[0m\u001b[0;34m)\u001b[0m\u001b[0;34m\u001b[0m\u001b[0;34m\u001b[0m\u001b[0m\n\u001b[0;32m----> 6\u001b[0;31m export_graphviz(category_tree2, out_file=dot_data, \n\u001b[0m\u001b[1;32m      7\u001b[0m                    \u001b[0mfeature_names\u001b[0m\u001b[0;34m=\u001b[0m\u001b[0mx\u001b[0m\u001b[0;34m.\u001b[0m\u001b[0mcolumns\u001b[0m\u001b[0;34m,\u001b[0m\u001b[0mclass_names\u001b[0m\u001b[0;34m=\u001b[0m\u001b[0;34m[\u001b[0m\u001b[0;34m'leave'\u001b[0m\u001b[0;34m,\u001b[0m\u001b[0;34m'stay'\u001b[0m\u001b[0;34m]\u001b[0m\u001b[0;34m,\u001b[0m\u001b[0;34m\u001b[0m\u001b[0;34m\u001b[0m\u001b[0m\n\u001b[1;32m      8\u001b[0m                    filled=True,rounded=True, precision =2)\n",
            "\u001b[0;32m/usr/local/lib/python3.9/dist-packages/sklearn/tree/_export.py\u001b[0m in \u001b[0;36mexport_graphviz\u001b[0;34m(decision_tree, out_file, max_depth, feature_names, class_names, label, filled, leaves_parallel, impurity, node_ids, proportion, rotate, rounded, special_characters, precision, fontname)\u001b[0m\n\u001b[1;32m    886\u001b[0m             \u001b[0mfontname\u001b[0m\u001b[0;34m=\u001b[0m\u001b[0mfontname\u001b[0m\u001b[0;34m,\u001b[0m\u001b[0;34m\u001b[0m\u001b[0;34m\u001b[0m\u001b[0m\n\u001b[1;32m    887\u001b[0m         )\n\u001b[0;32m--> 888\u001b[0;31m         \u001b[0mexporter\u001b[0m\u001b[0;34m.\u001b[0m\u001b[0mexport\u001b[0m\u001b[0;34m(\u001b[0m\u001b[0mdecision_tree\u001b[0m\u001b[0;34m)\u001b[0m\u001b[0;34m\u001b[0m\u001b[0;34m\u001b[0m\u001b[0m\n\u001b[0m\u001b[1;32m    889\u001b[0m \u001b[0;34m\u001b[0m\u001b[0m\n\u001b[1;32m    890\u001b[0m         \u001b[0;32mif\u001b[0m \u001b[0mreturn_string\u001b[0m\u001b[0;34m:\u001b[0m\u001b[0;34m\u001b[0m\u001b[0;34m\u001b[0m\u001b[0m\n",
            "\u001b[0;32m/usr/local/lib/python3.9/dist-packages/sklearn/tree/_export.py\u001b[0m in \u001b[0;36mexport\u001b[0;34m(self, decision_tree)\u001b[0m\n\u001b[1;32m    459\u001b[0m             \u001b[0mself\u001b[0m\u001b[0;34m.\u001b[0m\u001b[0mrecurse\u001b[0m\u001b[0;34m(\u001b[0m\u001b[0mdecision_tree\u001b[0m\u001b[0;34m,\u001b[0m \u001b[0;36m0\u001b[0m\u001b[0;34m,\u001b[0m \u001b[0mcriterion\u001b[0m\u001b[0;34m=\u001b[0m\u001b[0;34m\"impurity\"\u001b[0m\u001b[0;34m)\u001b[0m\u001b[0;34m\u001b[0m\u001b[0;34m\u001b[0m\u001b[0m\n\u001b[1;32m    460\u001b[0m         \u001b[0;32melse\u001b[0m\u001b[0;34m:\u001b[0m\u001b[0;34m\u001b[0m\u001b[0;34m\u001b[0m\u001b[0m\n\u001b[0;32m--> 461\u001b[0;31m             \u001b[0mself\u001b[0m\u001b[0;34m.\u001b[0m\u001b[0mrecurse\u001b[0m\u001b[0;34m(\u001b[0m\u001b[0mdecision_tree\u001b[0m\u001b[0;34m.\u001b[0m\u001b[0mtree_\u001b[0m\u001b[0;34m,\u001b[0m \u001b[0;36m0\u001b[0m\u001b[0;34m,\u001b[0m \u001b[0mcriterion\u001b[0m\u001b[0;34m=\u001b[0m\u001b[0mdecision_tree\u001b[0m\u001b[0;34m.\u001b[0m\u001b[0mcriterion\u001b[0m\u001b[0;34m)\u001b[0m\u001b[0;34m\u001b[0m\u001b[0;34m\u001b[0m\u001b[0m\n\u001b[0m\u001b[1;32m    462\u001b[0m \u001b[0;34m\u001b[0m\u001b[0m\n\u001b[1;32m    463\u001b[0m         \u001b[0mself\u001b[0m\u001b[0;34m.\u001b[0m\u001b[0mtail\u001b[0m\u001b[0;34m(\u001b[0m\u001b[0;34m)\u001b[0m\u001b[0;34m\u001b[0m\u001b[0;34m\u001b[0m\u001b[0m\n",
            "\u001b[0;32m/usr/local/lib/python3.9/dist-packages/sklearn/tree/_export.py\u001b[0m in \u001b[0;36mrecurse\u001b[0;34m(self, tree, node_id, criterion, parent, depth)\u001b[0m\n\u001b[1;32m    518\u001b[0m \u001b[0;34m\u001b[0m\u001b[0m\n\u001b[1;32m    519\u001b[0m             self.out_file.write(\n\u001b[0;32m--> 520\u001b[0;31m                 \u001b[0;34m\"%d [label=%s\"\u001b[0m \u001b[0;34m%\u001b[0m \u001b[0;34m(\u001b[0m\u001b[0mnode_id\u001b[0m\u001b[0;34m,\u001b[0m \u001b[0mself\u001b[0m\u001b[0;34m.\u001b[0m\u001b[0mnode_to_str\u001b[0m\u001b[0;34m(\u001b[0m\u001b[0mtree\u001b[0m\u001b[0;34m,\u001b[0m \u001b[0mnode_id\u001b[0m\u001b[0;34m,\u001b[0m \u001b[0mcriterion\u001b[0m\u001b[0;34m)\u001b[0m\u001b[0;34m)\u001b[0m\u001b[0;34m\u001b[0m\u001b[0;34m\u001b[0m\u001b[0m\n\u001b[0m\u001b[1;32m    521\u001b[0m             )\n\u001b[1;32m    522\u001b[0m \u001b[0;34m\u001b[0m\u001b[0m\n",
            "\u001b[0;32m/usr/local/lib/python3.9/dist-packages/sklearn/tree/_export.py\u001b[0m in \u001b[0;36mnode_to_str\u001b[0;34m(self, tree, node_id, criterion)\u001b[0m\n\u001b[1;32m    364\u001b[0m                 \u001b[0mnode_string\u001b[0m \u001b[0;34m+=\u001b[0m \u001b[0;34m\"class = \"\u001b[0m\u001b[0;34m\u001b[0m\u001b[0;34m\u001b[0m\u001b[0m\n\u001b[1;32m    365\u001b[0m             \u001b[0;32mif\u001b[0m \u001b[0mself\u001b[0m\u001b[0;34m.\u001b[0m\u001b[0mclass_names\u001b[0m \u001b[0;32mis\u001b[0m \u001b[0;32mnot\u001b[0m \u001b[0;32mTrue\u001b[0m\u001b[0;34m:\u001b[0m\u001b[0;34m\u001b[0m\u001b[0;34m\u001b[0m\u001b[0m\n\u001b[0;32m--> 366\u001b[0;31m                 \u001b[0mclass_name\u001b[0m \u001b[0;34m=\u001b[0m \u001b[0mself\u001b[0m\u001b[0;34m.\u001b[0m\u001b[0mclass_names\u001b[0m\u001b[0;34m[\u001b[0m\u001b[0mnp\u001b[0m\u001b[0;34m.\u001b[0m\u001b[0margmax\u001b[0m\u001b[0;34m(\u001b[0m\u001b[0mvalue\u001b[0m\u001b[0;34m)\u001b[0m\u001b[0;34m]\u001b[0m\u001b[0;34m\u001b[0m\u001b[0;34m\u001b[0m\u001b[0m\n\u001b[0m\u001b[1;32m    367\u001b[0m             \u001b[0;32melse\u001b[0m\u001b[0;34m:\u001b[0m\u001b[0;34m\u001b[0m\u001b[0;34m\u001b[0m\u001b[0m\n\u001b[1;32m    368\u001b[0m                 class_name = \"y%s%s%s\" % (\n",
            "\u001b[0;31mIndexError\u001b[0m: list index out of range"
          ]
        }
      ],
      "source": [
        "from six import StringIO\n",
        "from IPython.display import Image  \n",
        "import pydotplus\n",
        "\n",
        "dot_data = StringIO()\n",
        "export_graphviz(category_tree2, out_file=dot_data, \n",
        "                   feature_names=x.columns,class_names=['leave','stay'], \n",
        "                   filled=True,rounded=True, precision =2)\n",
        "\n",
        "graph=pydotplus.graph_from_dot_data(dot_data.getvalue())\n",
        "Image(graph.create_png())"
      ]
    },
    {
      "cell_type": "markdown",
      "metadata": {
        "id": "oKoXf3kkJVmm"
      },
      "source": [
        "## Fit a full tree model\n",
        "\n",
        "Use all of the independent attributes.  We'll call this the \"full tree.\" \n",
        "\n",
        "What is the accuracy of the full tree? "
      ]
    },
    {
      "cell_type": "code",
      "execution_count": null,
      "metadata": {
        "id": "SFOTNW70MbI9"
      },
      "outputs": [],
      "source": [
        "# split the datafram into independent (x) and dependent (predicted) attributes (y)\n",
        "x = df_clean[['income','house','college','overage','leftover','handset_price','over_15mins_calls_per_month','average_call_duration','reported_satisfaction','reported_usage_level','considering_change_of_plan']]\n",
        "y = df_clean['leave']\n",
        "\n",
        "full_tree = DecisionTreeClassifier(criterion=\"entropy\", max_depth=5)\n",
        "\n",
        "# Create Decision Tree Classifer\n",
        "full_tree = full_tree.fit(x,y)\n"
      ]
    },
    {
      "cell_type": "markdown",
      "metadata": {
        "id": "qkDk8JG8n_W9"
      },
      "source": [
        "##Visualize the full tree"
      ]
    },
    {
      "cell_type": "code",
      "execution_count": null,
      "metadata": {
        "id": "nFvB1n-_oBV6"
      },
      "outputs": [],
      "source": [
        "from six import StringIO\n",
        "from IPython.display import Image  \n",
        "import pydotplus\n",
        "\n",
        "dot_data = StringIO()\n",
        "export_graphviz(full_tree, out_file=dot_data, \n",
        "                   feature_names=x.columns,class_names=['leave','stay'], \n",
        "                   filled=True,rounded=True, precision =2)\n",
        "\n",
        "graph=pydotplus.graph_from_dot_data(dot_data.getvalue())\n",
        "Image(graph.create_png())"
      ]
    },
    {
      "cell_type": "markdown",
      "metadata": {
        "id": "m-ZyMMzIMrba"
      },
      "source": [
        "## Check Accuracy"
      ]
    },
    {
      "cell_type": "code",
      "execution_count": null,
      "metadata": {
        "id": "Tzn8iS8hMtvQ"
      },
      "outputs": [],
      "source": [
        "pred = full_tree.predict(x)\n",
        "\n",
        "#print(pred)\n",
        "\n",
        "print(\"Accuracy:\",metrics.accuracy_score(y, pred))"
      ]
    },
    {
      "cell_type": "markdown",
      "metadata": {
        "id": "phFKD8KKmgkF"
      },
      "source": [
        "##Test and Train\n",
        "Now we will split the dataset into 80% training data and 20% test data"
      ]
    },
    {
      "cell_type": "code",
      "execution_count": null,
      "metadata": {
        "id": "77_0IJBRmuFT"
      },
      "outputs": [],
      "source": [
        "x_train, x_test, y_train, y_test = train_test_split(x, y, test_size=0.2)"
      ]
    },
    {
      "cell_type": "markdown",
      "metadata": {
        "id": "ZcjFH-MBnaml"
      },
      "source": [
        "##Create a new tree using only training data"
      ]
    },
    {
      "cell_type": "code",
      "execution_count": null,
      "metadata": {
        "id": "ZS66hDodnmIX"
      },
      "outputs": [],
      "source": [
        "train_tree = DecisionTreeClassifier(criterion=\"entropy\", max_depth=5)\n",
        "\n",
        "# Create Decision Tree Classifer\n",
        "train_tree = train_tree.fit(x_train,y_train)"
      ]
    },
    {
      "cell_type": "markdown",
      "metadata": {
        "id": "meDBr2fatOqF"
      },
      "source": [
        "##Apply the new tree to our test data"
      ]
    },
    {
      "cell_type": "code",
      "execution_count": null,
      "metadata": {
        "id": "UneJift1nxVb"
      },
      "outputs": [],
      "source": [
        "pred = train_tree.predict(x_test)\n",
        "print(\"Accuracy:\",metrics.accuracy_score(y_test, pred))"
      ]
    },
    {
      "cell_type": "markdown",
      "metadata": {
        "id": "uYl-WnlrNBbr"
      },
      "source": [
        "## Visualize the trained tree"
      ]
    },
    {
      "cell_type": "code",
      "execution_count": null,
      "metadata": {
        "id": "JsdhyStgNEYy"
      },
      "outputs": [],
      "source": [
        "from six import StringIO\n",
        "from IPython.display import Image  \n",
        "import pydotplus\n",
        "\n",
        "dot_data = StringIO()\n",
        "export_graphviz(train_tree, out_file=dot_data, \n",
        "                   feature_names=x.columns,class_names=['leave','stay'], \n",
        "                   filled=True,rounded=True, precision =2)\n",
        "\n",
        "graph=pydotplus.graph_from_dot_data(dot_data.getvalue())\n",
        "Image(graph.create_png())"
      ]
    },
    {
      "cell_type": "markdown",
      "metadata": {
        "id": "G0xA_kdGQ1Ln"
      },
      "source": [
        "## Did the model improve?\n",
        "👎  👍"
      ]
    },
    {
      "cell_type": "code",
      "source": [],
      "metadata": {
        "id": "-xm3czmDZfU2"
      },
      "execution_count": null,
      "outputs": []
    }
  ],
  "metadata": {
    "colab": {
      "provenance": [],
      "include_colab_link": true
    },
    "kernelspec": {
      "display_name": "Python 3",
      "name": "python3"
    },
    "language_info": {
      "name": "python"
    }
  },
  "nbformat": 4,
  "nbformat_minor": 0
}